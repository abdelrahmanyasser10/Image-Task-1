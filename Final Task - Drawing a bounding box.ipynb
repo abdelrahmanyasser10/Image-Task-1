{
 "cells": [
  {
   "cell_type": "code",
   "execution_count": 23,
   "id": "e8c1bb15",
   "metadata": {},
   "outputs": [],
   "source": [
    "import cv2\n",
    "import numpy as np\n",
    "import matplotlib.pyplot as plt"
   ]
  },
  {
   "cell_type": "code",
   "execution_count": 26,
   "id": "3d83428a",
   "metadata": {},
   "outputs": [
    {
     "name": "stdout",
     "output_type": "stream",
     "text": [
      "Point 1: (338, 354)\n",
      "Point 2: (769, 384)\n"
     ]
    }
   ],
   "source": [
    "point1 = None\n",
    "point2 = None\n",
    "segment = None\n",
    "\n",
    "def drawRectangle(event,x,y,flags,param):\n",
    "    global point1, point2, segment\n",
    "    if event == cv2.EVENT_LBUTTONDOWN:\n",
    "        if point1 is None:\n",
    "            point1 = (x,y)\n",
    "            print(f\"Point 1: {point1}\")\n",
    "            \n",
    "        elif point2 is None:\n",
    "            point2 = (x,y)\n",
    "            print(f\"Point 2: {point2}\")\n",
    "    if point1 != None and point2 != None:\n",
    "        cv2.rectangle(towers,point1,point2,(0, 0, 255),15)  \n",
    "\n",
    "        \n",
    "# Creating a window to add the mouse callback to\n",
    "towers = cv2.imread('../assets/skyline.jpg')\n",
    "cv2.namedWindow('Tower')\n",
    "cv2.setMouseCallback('Tower',drawRectangle)\n",
    "\n",
    "while(1):\n",
    "    cv2.imshow('Tower',towers)\n",
    "    cv2.namedWindow('Tower')\n",
    "    cv2.setMouseCallback('Tower',drawRectangle)\n",
    "    key = cv2.waitKey(1)\n",
    "    if key == 27:\n",
    "        break\n",
    "cv2.destroyAllWindows()"
   ]
  },
  {
   "cell_type": "code",
   "execution_count": null,
   "id": "e6bfd6b1",
   "metadata": {},
   "outputs": [],
   "source": []
  },
  {
   "cell_type": "code",
   "execution_count": null,
   "id": "eead77c2",
   "metadata": {},
   "outputs": [],
   "source": []
  },
  {
   "cell_type": "code",
   "execution_count": null,
   "id": "0937e16a",
   "metadata": {},
   "outputs": [],
   "source": []
  },
  {
   "cell_type": "code",
   "execution_count": null,
   "id": "54ce572a",
   "metadata": {},
   "outputs": [],
   "source": []
  }
 ],
 "metadata": {
  "kernelspec": {
   "display_name": "Python 3 (ipykernel)",
   "language": "python",
   "name": "python3"
  },
  "language_info": {
   "codemirror_mode": {
    "name": "ipython",
    "version": 3
   },
   "file_extension": ".py",
   "mimetype": "text/x-python",
   "name": "python",
   "nbconvert_exporter": "python",
   "pygments_lexer": "ipython3",
   "version": "3.11.4"
  }
 },
 "nbformat": 4,
 "nbformat_minor": 5
}
